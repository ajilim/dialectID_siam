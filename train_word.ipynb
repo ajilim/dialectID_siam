{
 "cells": [
  {
   "cell_type": "code",
   "execution_count": 1,
   "metadata": {
    "collapsed": true
   },
   "outputs": [],
   "source": [
    "#!/usr/bin/python\n",
    "\n",
    "from tensorflow.contrib.learn.python.learn.datasets import base\n",
    "import tensorflow as tf\n",
    "import numpy as np\n",
    "import os,sys\n",
    "sys.path.insert(0, './scripts')\n",
    "import py_compile\n",
    "py_compile.compile('scripts/ivector_tools.py')\n",
    "py_compile.compile('scripts/siamese_model_words.py')\n",
    "import ivector_dataset\n",
    "import siamese_model_words as siamese_model\n",
    "import ivector_tools as it\n"
   ]
  },
  {
   "cell_type": "code",
   "execution_count": 2,
   "metadata": {
    "collapsed": true
   },
   "outputs": [],
   "source": [
    "def get_dataset_size(dict_file,feat_file):\n",
    "# Counting feature dimension and total number of utterances\n",
    "    f = open(dict_file)\n",
    "    dict_dim = 0\n",
    "    for line in f:\n",
    "        dict_dim+=1\n",
    "    f.close()\n",
    "    feat_len = 0\n",
    "    f = open(feat_file)\n",
    "    for line in f:\n",
    "        feat_len+=1\n",
    "    f.close()\n",
    "    return dict_dim, feat_len\n",
    "\n",
    "def get_feat_label(dict_file, feat_file):\n",
    "# Get feature vectors from files\n",
    "    dict_dim, feat_len = get_dataset_size(dict_file,feat_file)\n",
    "    features = np.zeros((feat_len,dict_dim),dtype='float32')\n",
    "    labels = np.zeros((feat_len),dtype='int8')\n",
    "    names = []\n",
    "    f = open(feat_file)\n",
    "    count = 0\n",
    "    for line in f:\n",
    "        names.append(line.split()[0])\n",
    "        labels[count] = line.split()[1]\n",
    "        line= line.split()[2:]\n",
    "        for iter in range(0,len(line)):\n",
    "            elements = line[iter].split(':')\n",
    "            features[count][ int( elements[0] ) -1 ] = elements[1]\n",
    "        count = count + 1 \n",
    "    f.close()\n",
    "    \n",
    "    return features, labels, names"
   ]
  },
  {
   "cell_type": "code",
   "execution_count": 3,
   "metadata": {},
   "outputs": [
    {
     "name": "stdout",
     "output_type": "stream",
     "text": [
      "(14000, 41657) (1524, 41657) (1492, 41657)\n"
     ]
    }
   ],
   "source": [
    "context = 1\n",
    "dict_file = 'data/train.vardial2017/dict.words.c'+str(context)\n",
    "feat_file = 'data/train.vardial2017/words.c'+str(context)\n",
    "trn_features, trn_labels, trn_names = get_feat_label(dict_file,feat_file)\n",
    "\n",
    "feat_file = 'data/dev.vardial2017/words.c'+str(context)\n",
    "dev_features, dev_labels, dev_names = get_feat_label(dict_file,feat_file)\n",
    "\n",
    "feat_file = 'data/test.MGB3/words.c'+str(context)\n",
    "tst_features, tst_labels, tst_names = get_feat_label(dict_file,feat_file)\n",
    "\n",
    "print trn_features.shape, dev_features.shape, tst_features.shape"
   ]
  },
  {
   "cell_type": "code",
   "execution_count": 4,
   "metadata": {
    "collapsed": true
   },
   "outputs": [],
   "source": [
    "languages = ['EGY','GLF','LAV','MSA','NOR']\n",
    "\n",
    "\n",
    "\n",
    "# load tst.MGB3 labels\n",
    "filename = 'data/test.MGB3/reference'\n",
    "tst_ref_names = np.loadtxt(filename,usecols=[0],dtype='string')\n",
    "tst_ref_labels = np.loadtxt(filename,usecols=[1],dtype='int')\n",
    "\n",
    "tst_labels_index = []\n",
    "for i,name in enumerate(tst_names):\n",
    "    for j, name_ref in enumerate(tst_ref_names):\n",
    "        if name == name_ref:\n",
    "            tst_labels_index = np.append(tst_labels_index,j)\n",
    "\n",
    "tst_labels = np.empty((np.size(tst_labels_index)))\n",
    "for i,j in enumerate(tst_labels_index):\n",
    "    tst_labels[i]=tst_ref_labels[int(j)]"
   ]
  },
  {
   "cell_type": "code",
   "execution_count": 5,
   "metadata": {
    "collapsed": true
   },
   "outputs": [],
   "source": [
    "# merge trn+dev\n",
    "trndev_features = np.append(trn_features, dev_features,axis=0)\n",
    "trndev_labels = np.append(trn_labels,dev_labels)\n",
    "trndev_names = np.append(trn_names,dev_names)"
   ]
  },
  {
   "cell_type": "code",
   "execution_count": 6,
   "metadata": {},
   "outputs": [
    {
     "name": "stdout",
     "output_type": "stream",
     "text": [
      "((14000, 41657), (1524, 41657), (5, 41657), (1492, 41657))\n"
     ]
    }
   ],
   "source": [
    "#language modeling\n",
    "lang_mean=[]\n",
    "for i, lang in enumerate(languages):\n",
    "#     lang_mean.append(np.mean(np.append(trn_features[np.nonzero(trndev_labels == i+1)] ,dev_features[np.nonzero(dev_labels == i+1)],axis=0),axis=0))\n",
    "    lang_mean.append(np.mean( trn_features[np.nonzero(trn_labels == i+1)][:],axis=0 ) )\n",
    "\n",
    "lang_mean = np.array(lang_mean)\n",
    "lang_mean = it.length_norm(lang_mean)\n",
    "\n",
    "print( np.shape(trn_features), np.shape(dev_features), np.shape(lang_mean),np.shape(tst_features) )"
   ]
  },
  {
   "cell_type": "code",
   "execution_count": 7,
   "metadata": {},
   "outputs": [
    {
     "name": "stdout",
     "output_type": "stream",
     "text": [
      "Baseline accurary on test dataset : 0.379\n",
      "Baseline accurary on dev dataset : 0.371\n"
     ]
    }
   ],
   "source": [
    "# Baseline performance on TST using CDS\n",
    "tst_scores = lang_mean.dot(tst_features.transpose() )\n",
    "# print(tst_scores.shape)\n",
    "hypo_lang = np.argmax(tst_scores,axis = 0)\n",
    "temp = ((tst_labels-1) - hypo_lang)\n",
    "acc =1- np.size(np.nonzero(temp)) / float(np.size(tst_labels))\n",
    "print 'Baseline accurary on test dataset : %0.3f' %(acc)\n",
    "\n",
    "# Baseline performance on DEV using CDS\n",
    "dev_scores = lang_mean.dot(dev_features.transpose() )\n",
    "hypo_lang = np.argmax(dev_scores,axis = 0)\n",
    "temp = ((dev_labels-1) - hypo_lang)\n",
    "acc =1- np.size(np.nonzero(temp)) / float(np.size(dev_labels))\n",
    "print 'Baseline accurary on dev dataset : %0.3f' %(acc)\n"
   ]
  },
  {
   "cell_type": "code",
   "execution_count": 8,
   "metadata": {},
   "outputs": [
    {
     "name": "stdout",
     "output_type": "stream",
     "text": [
      "((70000,), (70000,), (70000,))\n",
      "((14000, 41657), (14000, 41657), (14000,), (56000, 41657), (56000, 41657), (56000,))\n"
     ]
    }
   ],
   "source": [
    "# making pair of train i-vector with mean of each language i-vector\n",
    "#  example : for total 3 ivectors\n",
    "#  ivector   ivector_p  label\n",
    "#     1         1         1\n",
    "#     1         2         0\n",
    "#     1         3         0\n",
    "#     2         1         0\n",
    "#     2         2         1\n",
    "#     ...      ...       ...\n",
    "#     3         3         1\n",
    "\n",
    "# preparing pair labels\n",
    "sim = []\n",
    "pair_a_idx = []\n",
    "pair_b_idx = []\n",
    "for i, lang in enumerate(languages):\n",
    "    for j, label in enumerate(trn_labels):\n",
    "#         print i, j, label\n",
    "        pair_a_idx.append(i+1)\n",
    "        pair_b_idx.append(j)\n",
    "        if i+1 == label:\n",
    "            sim.append(1)\n",
    "        else:\n",
    "            sim.append(0)\n",
    "print(np.shape(pair_a_idx),np.shape(pair_b_idx), np.shape(sim))\n",
    "pair_a_idx=np.array(pair_a_idx)\n",
    "pair_b_idx=np.array(pair_b_idx)\n",
    "sim = np.array(sim)\n",
    "\n",
    "#shuffling\n",
    "shuffleidx = np.arange(0,np.size(pair_a_idx))\n",
    "np.random.shuffle(shuffleidx)\n",
    "pair_a_idx = pair_a_idx[shuffleidx]\n",
    "pair_b_idx = pair_b_idx[shuffleidx]\n",
    "sim = sim[shuffleidx]\n",
    "\n",
    "\n",
    "data = []\n",
    "data_p = []\n",
    "    \n",
    "for iter in np.arange(0,np.size(sim)) :\n",
    "    data.append( lang_mean[pair_a_idx[iter]-1] )\n",
    "    data_p.append( trn_features[pair_b_idx[iter]] )\n",
    "data = np.array(data)\n",
    "data_p = np.array(data_p)\n",
    "\n",
    "# TRN dataset loading for feeding \n",
    "tar_data = data[sim==1]\n",
    "tar_data_p = data_p[sim==1]\n",
    "tar_sim = sim[sim==1]\n",
    "non_data = data[sim==0]\n",
    "non_data_p = data_p[sim==0]\n",
    "non_sim = sim[sim==0]\n",
    "print(tar_data.shape, tar_data_p.shape,tar_sim.shape,non_data.shape,non_data_p.shape,non_sim.shape)\n",
    "\n",
    "trn_tar = ivector_dataset.DataSet(tar_data,tar_sim)\n",
    "trn_tar_p = ivector_dataset.DataSet(tar_data_p,tar_sim)\n",
    "\n",
    "trn_non = ivector_dataset.DataSet(non_data,non_sim)\n",
    "trn_non_p = ivector_dataset.DataSet(non_data_p,non_sim)\n"
   ]
  },
  {
   "cell_type": "code",
   "execution_count": 9,
   "metadata": {},
   "outputs": [
    {
     "name": "stdout",
     "output_type": "stream",
     "text": [
      "((7620,), (7620,), (7620,))\n",
      "((1524, 41657), (1524, 41657), (1524,), (6096, 41657), (6096, 41657), (6096,))\n"
     ]
    }
   ],
   "source": [
    "# preparing pair labels of DEV dataset\n",
    "sim = []\n",
    "pair_a_idx = []\n",
    "pair_b_idx = []\n",
    "for i, lang in enumerate(languages):\n",
    "    for j, label in enumerate(dev_labels):\n",
    "#         print i, j, label\n",
    "        pair_a_idx.append(i+1)\n",
    "        pair_b_idx.append(j)\n",
    "        if i+1 == label:\n",
    "            sim.append(1)\n",
    "        else:\n",
    "            sim.append(0)\n",
    "print(np.shape(pair_a_idx),np.shape(pair_b_idx), np.shape(sim))\n",
    "pair_a_idx=np.array(pair_a_idx)\n",
    "pair_b_idx=np.array(pair_b_idx)\n",
    "sim = np.array(sim)\n",
    "\n",
    "#shuffling\n",
    "shuffleidx = np.arange(0,np.size(pair_a_idx))\n",
    "np.random.shuffle(shuffleidx)\n",
    "pair_a_idx = pair_a_idx[shuffleidx]\n",
    "pair_b_idx = pair_b_idx[shuffleidx]\n",
    "sim = sim[shuffleidx]\n",
    "\n",
    "\n",
    "data = []\n",
    "data_p = []\n",
    "    \n",
    "for iter in np.arange(0,np.size(sim)) :\n",
    "    data.append( lang_mean[pair_a_idx[iter]-1] )\n",
    "    data_p.append( dev_features[pair_b_idx[iter]] )\n",
    "data = np.array(data)\n",
    "data_p = np.array(data_p)\n",
    "\n",
    "# DEV dataset loading for feeding \n",
    "tar_data = data[sim==1]\n",
    "tar_data_p = data_p[sim==1]\n",
    "tar_sim = sim[sim==1]\n",
    "non_data = data[sim==0]\n",
    "non_data_p = data_p[sim==0]\n",
    "non_sim = sim[sim==0]\n",
    "print(tar_data.shape, tar_data_p.shape,tar_sim.shape,non_data.shape,non_data_p.shape,non_sim.shape)\n",
    "\n",
    "dev_tar = ivector_dataset.DataSet(tar_data,tar_sim)\n",
    "dev_tar_p = ivector_dataset.DataSet(tar_data_p,tar_sim)\n",
    "\n",
    "dev_non = ivector_dataset.DataSet(non_data,non_sim)\n",
    "dev_non_p = ivector_dataset.DataSet(non_data_p,non_sim)\n"
   ]
  },
  {
   "cell_type": "code",
   "execution_count": 10,
   "metadata": {
    "scrolled": false
   },
   "outputs": [
    {
     "name": "stdout",
     "output_type": "stream",
     "text": [
      "(?, 92600)\n",
      "(?, 1500)\n",
      "(?, 600)\n",
      "(?, 92600)\n",
      "(?, 1500)\n",
      "(?, 600)\n"
     ]
    }
   ],
   "source": [
    "# init variables\n",
    "sess = tf.InteractiveSession()\n",
    "siamese = siamese_model.siamese(np.shape(trn_features)[1]);\n",
    "global_step = tf.Variable(0, trainable=False)\n",
    "learning_rate = tf.train.exponential_decay(0.01, global_step,\n",
    "                                           5000, 0.99, staircase=True)\n",
    "train_step = tf.train.GradientDescentOptimizer(learning_rate).minimize(siamese.loss, global_step=global_step)\n",
    "saver = tf.train.Saver()\n",
    "sess.run(tf.global_variables_initializer())"
   ]
  },
  {
   "cell_type": "code",
   "execution_count": 11,
   "metadata": {
    "scrolled": false
   },
   "outputs": [
    {
     "name": "stdout",
     "output_type": "stream",
     "text": [
      "Step 0: loss 1.000016, Acc.: (DEV)0.244 (TST)0.227, lr : 0.01000\n",
      "Step 200: loss 1.000010, Acc.: (DEV)0.266 (TST)0.248, lr : 0.01000\n",
      "Step 400: loss 0.999979, Acc.: (DEV)0.272 (TST)0.255, lr : 0.01000\n",
      "Step 500: loss 0.999965, Acc.: (DEV)0.289 (TST)0.257, lr : 0.01000\n",
      "Step 600: loss 0.999990, Acc.: (DEV)0.291 (TST)0.267, lr : 0.01000\n",
      "Step 700: loss 1.000027, Acc.: (DEV)0.293 (TST)0.269, lr : 0.01000\n",
      "Step 800: loss 0.999997, Acc.: (DEV)0.304 (TST)0.280, lr : 0.01000\n",
      "Step 900: loss 0.999997, Acc.: (DEV)0.314 (TST)0.284, lr : 0.01000\n",
      "Step 1500: loss 0.999953, Acc.: (DEV)0.305 (TST)0.288, lr : 0.01000\n",
      "Step 1700: loss 0.999933, Acc.: (DEV)0.314 (TST)0.289, lr : 0.01000\n",
      "Step 2300: loss 0.999953, Acc.: (DEV)0.313 (TST)0.292, lr : 0.01000\n",
      "Step 14200: loss 0.999205, Acc.: (DEV)0.295 (TST)0.293, lr : 0.00980\n",
      "Step 14600: loss 0.998951, Acc.: (DEV)0.299 (TST)0.296, lr : 0.00980\n",
      "Step 15000: loss 0.998830, Acc.: (DEV)0.299 (TST)0.298, lr : 0.00970\n",
      "Step 17000: loss 1.000467, Acc.: (DEV)0.302 (TST)0.298, lr : 0.00970\n",
      "Step 19800: loss 0.973047, Acc.: (DEV)0.316 (TST)0.303, lr : 0.00970\n",
      "Step 20700: loss 0.936938, Acc.: (DEV)0.329 (TST)0.314, lr : 0.00961\n",
      "Step 21400: loss 0.938481, Acc.: (DEV)0.343 (TST)0.322, lr : 0.00961\n",
      "Step 21900: loss 0.953454, Acc.: (DEV)0.357 (TST)0.329, lr : 0.00961\n",
      "Step 22000: loss 0.978127, Acc.: (DEV)0.356 (TST)0.330, lr : 0.00961\n",
      "Step 22600: loss 0.922073, Acc.: (DEV)0.367 (TST)0.334, lr : 0.00961\n",
      "Step 23400: loss 0.955541, Acc.: (DEV)0.383 (TST)0.334, lr : 0.00961\n",
      "Step 23900: loss 0.958149, Acc.: (DEV)0.392 (TST)0.336, lr : 0.00961\n",
      "Step 24200: loss 0.908078, Acc.: (DEV)0.400 (TST)0.338, lr : 0.00961\n",
      "Step 24700: loss 0.917895, Acc.: (DEV)0.404 (TST)0.340, lr : 0.00961\n",
      "Step 26000: loss 0.936195, Acc.: (DEV)0.413 (TST)0.342, lr : 0.00951\n",
      "Step 31900: loss 0.940200, Acc.: (DEV)0.442 (TST)0.344, lr : 0.00941\n",
      "Step 32100: loss 0.951752, Acc.: (DEV)0.448 (TST)0.345, lr : 0.00941\n",
      "Step 32300: loss 0.894299, Acc.: (DEV)0.451 (TST)0.349, lr : 0.00941\n",
      "Step 32600: loss 0.915610, Acc.: (DEV)0.472 (TST)0.354, lr : 0.00941\n",
      "Step 32800: loss 0.962252, Acc.: (DEV)0.492 (TST)0.359, lr : 0.00941\n",
      "Step 33100: loss 0.924647, Acc.: (DEV)0.512 (TST)0.361, lr : 0.00941\n",
      "Step 33200: loss 1.017381, Acc.: (DEV)0.522 (TST)0.363, lr : 0.00941\n",
      "Step 33600: loss 0.902357, Acc.: (DEV)0.554 (TST)0.374, lr : 0.00941\n",
      "Step 33800: loss 0.891934, Acc.: (DEV)0.558 (TST)0.379, lr : 0.00941\n",
      "Step 34000: loss 0.979545, Acc.: (DEV)0.581 (TST)0.381, lr : 0.00941\n",
      "Step 34400: loss 0.920193, Acc.: (DEV)0.608 (TST)0.391, lr : 0.00941\n",
      "Step 34500: loss 0.948079, Acc.: (DEV)0.597 (TST)0.392, lr : 0.00941\n",
      "Step 34600: loss 0.907328, Acc.: (DEV)0.612 (TST)0.394, lr : 0.00941\n",
      "Step 34700: loss 0.870066, Acc.: (DEV)0.586 (TST)0.396, lr : 0.00941\n",
      "Step 34800: loss 0.941832, Acc.: (DEV)0.633 (TST)0.403, lr : 0.00941\n",
      "Step 35100: loss 0.900111, Acc.: (DEV)0.654 (TST)0.410, lr : 0.00932\n",
      "Step 35200: loss 0.833727, Acc.: (DEV)0.673 (TST)0.425, lr : 0.00932\n",
      "Step 35300: loss 0.915350, Acc.: (DEV)0.694 (TST)0.433, lr : 0.00932\n",
      "Step 35600: loss 0.958347, Acc.: (DEV)0.682 (TST)0.436, lr : 0.00932\n",
      "Step 35700: loss 0.892179, Acc.: (DEV)0.715 (TST)0.438, lr : 0.00932\n",
      "Step 35800: loss 0.912411, Acc.: (DEV)0.739 (TST)0.444, lr : 0.00932\n",
      "Step 35900: loss 0.906459, Acc.: (DEV)0.743 (TST)0.454, lr : 0.00932\n",
      "Step 36100: loss 0.886053, Acc.: (DEV)0.768 (TST)0.466, lr : 0.00932\n",
      "Step 36400: loss 0.948605, Acc.: (DEV)0.805 (TST)0.477, lr : 0.00932\n",
      "Step 36600: loss 0.878258, Acc.: (DEV)0.828 (TST)0.481, lr : 0.00932\n",
      "Step 36800: loss 0.800142, Acc.: (DEV)0.837 (TST)0.495, lr : 0.00932\n",
      "Step 37100: loss 0.845029, Acc.: (DEV)0.901 (TST)0.499, lr : 0.00932\n",
      "Step 37200: loss 0.874129, Acc.: (DEV)0.898 (TST)0.509, lr : 0.00932\n",
      "Step 37300: loss 0.808624, Acc.: (DEV)0.904 (TST)0.517, lr : 0.00932\n",
      "Step 37600: loss 0.789741, Acc.: (DEV)0.931 (TST)0.525, lr : 0.00932\n",
      "Step 37800: loss 0.911318, Acc.: (DEV)0.933 (TST)0.529, lr : 0.00932\n",
      "Step 37900: loss 0.849532, Acc.: (DEV)0.946 (TST)0.531, lr : 0.00932\n",
      "Step 38200: loss 0.821795, Acc.: (DEV)0.963 (TST)0.536, lr : 0.00932\n",
      "Step 38300: loss 0.914201, Acc.: (DEV)0.957 (TST)0.548, lr : 0.00932\n",
      "Step 38500: loss 0.783648, Acc.: (DEV)0.980 (TST)0.550, lr : 0.00932\n",
      "Step 38600: loss 0.842240, Acc.: (DEV)0.982 (TST)0.553, lr : 0.00932\n",
      "Step 38700: loss 0.836555, Acc.: (DEV)0.986 (TST)0.561, lr : 0.00932\n",
      "Step 39000: loss 0.882055, Acc.: (DEV)0.989 (TST)0.566, lr : 0.00932\n",
      "Step 39300: loss 0.788291, Acc.: (DEV)0.993 (TST)0.568, lr : 0.00932\n",
      "Step 40800: loss 0.800720, Acc.: (DEV)0.999 (TST)0.570, lr : 0.00923\n",
      "Step 41700: loss 0.754222, Acc.: (DEV)1.000 (TST)0.571, lr : 0.00923\n",
      "Step 48400: loss 0.735115, Acc.: (DEV)1.000 (TST)0.573, lr : 0.00914\n",
      "Step 50100: loss 0.649485, Acc.: (DEV)1.000 (TST)0.574, lr : 0.00904\n",
      "Step 52400: loss 0.743527, Acc.: (DEV)1.000 (TST)0.574, lr : 0.00904\n",
      "Step 52500: loss 0.638026, Acc.: (DEV)1.000 (TST)0.575, lr : 0.00904\n",
      "Step 52700: loss 0.704271, Acc.: (DEV)1.000 (TST)0.578, lr : 0.00904\n",
      "Step 55000: loss 0.693177, Acc.: (DEV)1.000 (TST)0.580, lr : 0.00895\n",
      "Step 56900: loss 0.757481, Acc.: (DEV)1.000 (TST)0.582, lr : 0.00895\n",
      "Step 60400: loss 0.666688, Acc.: (DEV)1.000 (TST)0.585, lr : 0.00886\n"
     ]
    }
   ],
   "source": [
    "#start training\n",
    "batch_size = 40\n",
    "max_acc = 0.0\n",
    "max_step=0\n",
    "saver_folder='snnmodel_words'\n",
    "if not os.path.exists(saver_folder):\n",
    "    os.mkdir(saver_folder)\n",
    "for step in range(100000):\n",
    "  \n",
    "    if step %5 ==0:\n",
    "        batch_x1_a, batch_y1_a = trn_tar.next_batch(batch_size,shuffle=False)\n",
    "        batch_x2_a, batch_y2_a = trn_tar_p.next_batch(batch_size,shuffle=False)\n",
    "        batch_x1_b, batch_y1_b = trn_non.next_batch(batch_size,shuffle=False)\n",
    "        batch_x2_b, batch_y2_b = trn_non_p.next_batch(batch_size,shuffle=False)\n",
    "        batch_x1 = np.append(batch_x1_a,batch_x1_b,axis=0)\n",
    "        batch_y1 = np.append(batch_y1_a,batch_y1_b,axis=0)\n",
    "        batch_x2 = np.append(batch_x2_a,batch_x2_b,axis=0)\n",
    "        batch_y2 = np.append(batch_y2_a,batch_y2_b,axis=0)\n",
    "    else:\n",
    "        batch_x1_a, batch_y1_a = dev_tar.next_batch(batch_size,shuffle=False)\n",
    "        batch_x2_a, batch_y2_a = dev_tar_p.next_batch(batch_size,shuffle=False)\n",
    "        batch_x1_b, batch_y1_b = dev_non.next_batch(batch_size,shuffle=False)\n",
    "        batch_x2_b, batch_y2_b = dev_non_p.next_batch(batch_size,shuffle=False)\n",
    "        batch_x1 = np.append(batch_x1_a,batch_x1_b,axis=0)\n",
    "        batch_y1 = np.append(batch_y1_a,batch_y1_b,axis=0)\n",
    "        batch_x2 = np.append(batch_x2_a,batch_x2_b,axis=0)\n",
    "        batch_y2 = np.append(batch_y2_a,batch_y2_b,axis=0)\n",
    "        \n",
    "    batch_y = batch_y1*2-1\n",
    "    \n",
    "    _, loss_v = sess.run([train_step, siamese.loss], feed_dict={\n",
    "        siamese.x1: batch_x1,\n",
    "        siamese.x2: batch_x2,\n",
    "        siamese.y_: batch_y\n",
    "    })\n",
    "    \n",
    "    if np.isnan(loss_v):\n",
    "        print ('Model diverged with loss = NAN')\n",
    "        quit()\n",
    "        \n",
    "    if step % 100 ==0:\n",
    "        dev_features_siam = siamese.o1.eval({siamese.x1:dev_features})\n",
    "        lang_mean_siam = siamese.o1.eval({siamese.x1:lang_mean})\n",
    "        tst_features_siam = siamese.o1.eval({siamese.x1:tst_features})\n",
    "        \n",
    "        dev_scores = lang_mean_siam.dot(dev_features_siam.transpose() )\n",
    "        hypo_lang = np.argmax(dev_scores,axis = 0)\n",
    "        temp = ((dev_labels-1) - hypo_lang)\n",
    "        acc =1- np.size(np.nonzero(temp)) / float( np.size(dev_labels) )\n",
    "        \n",
    "        tst_scores = lang_mean_siam.dot(tst_features_siam.transpose() )\n",
    "        hypo_lang = np.argmax(tst_scores,axis = 0)\n",
    "        temp = ((tst_labels-1) - hypo_lang)\n",
    "        acc_tst =1- np.size(np.nonzero(temp)) / float(np.size(tst_labels))\n",
    "\n",
    "        if max_acc < acc_tst:\n",
    "            max_acc = acc_tst\n",
    "            max_step=step\n",
    "            print ('Step %d: loss %f, Acc.: (DEV)%.3f (TST)%.3f, lr : %.5f' % (step,loss_v,acc,acc_tst,sess.run(learning_rate)))\n",
    "            saver.save(sess, saver_folder+'/model'+str(step)+'.ckpt')\n",
    "        if max_step-step <0.5:\n",
    "            break\n"
   ]
  },
  {
   "cell_type": "code",
   "execution_count": 14,
   "metadata": {},
   "outputs": [
    {
     "name": "stdout",
     "output_type": "stream",
     "text": [
      "60400\n",
      "INFO:tensorflow:Restoring parameters from snnmodel_words/model60400.ckpt\n",
      "Final accurary on test dataset : 0.585\n"
     ]
    }
   ],
   "source": [
    "print max_step\n",
    "RESTORE_STEP=max_step\n",
    "saver.restore(sess, saver_folder+'/model'+str(RESTORE_STEP)+'.ckpt')\n",
    "\n",
    "\n",
    "# trn_features_siam = siamese.o1.eval({siamese.x1:trn_features})\n",
    "dev_features_siam = siamese.o1.eval({siamese.x1:dev_features})\n",
    "tst_features_siam = siamese.o1.eval({siamese.x1:tst_features})\n",
    "lang_mean_siam = siamese.o1.eval({siamese.x1:lang_mean})\n",
    "\n",
    "tst_scores = lang_mean_siam.dot(tst_features_siam.transpose() )\n",
    "# print(tst_scores.shape)\n",
    "hypo_lang = np.argmax(tst_scores,axis = 0)\n",
    "temp = ((tst_labels-1) - hypo_lang)\n",
    "acc =1- np.size(np.nonzero(temp)) / float(np.size(tst_labels))\n",
    "print 'Final accurary on test dataset : %0.3f' %(acc)"
   ]
  },
  {
   "cell_type": "code",
   "execution_count": 15,
   "metadata": {},
   "outputs": [
    {
     "name": "stdout",
     "output_type": "stream",
     "text": [
      "Confusion matrix\n",
      "[[ 179.   31.   38.   15.   29.]\n",
      " [  24.  119.   44.   28.   56.]\n",
      " [  54.   41.  208.   23.   47.]\n",
      " [  16.   31.   17.  184.   29.]\n",
      " [  29.   28.   27.   12.  183.]]\n",
      "Precision\n",
      "[ 0.6130137   0.43911439  0.55764075  0.66425993  0.65591398]\n",
      "Recall\n",
      "[ 0.59271523  0.476       0.62275449  0.70229008  0.53197674]\n",
      "\n",
      "\n",
      "<Performance evaluation on Test dataset>\n",
      "Accurary  : 0.585\n",
      "Precision : 0.586\n",
      "Recall    : 0.585\n"
     ]
    }
   ],
   "source": [
    "confusionmat = np.zeros((5,5))\n",
    "for i,lang in enumerate(languages):\n",
    "    hypo_bylang = hypo_lang[ tst_labels == i+1]\n",
    "    hist_bylang = np.histogram(hypo_bylang,5)\n",
    "    confusionmat[:,i] = hist_bylang[0]\n",
    "\n",
    "precision = np.diag(confusionmat) / np.sum(confusionmat,axis=1) #precision\n",
    "recall = np.diag(confusionmat) / np.sum(confusionmat,axis=0) # recall\n",
    "    \n",
    "print 'Confusion matrix'\n",
    "print confusionmat\n",
    "print 'Precision'\n",
    "print precision\n",
    "print 'Recall'\n",
    "print recall\n",
    "\n",
    "print '\\n\\n<Performance evaluation on Test dataset>'\n",
    "print 'Accurary  : %0.3f' %(acc)\n",
    "print 'Precision : %0.3f' %(np.mean(precision))\n",
    "print 'Recall    : %0.3f' %(np.mean(recall))"
   ]
  }
 ],
 "metadata": {
  "kernelspec": {
   "display_name": "Python 2",
   "language": "python",
   "name": "python2"
  },
  "language_info": {
   "codemirror_mode": {
    "name": "ipython",
    "version": 2
   },
   "file_extension": ".py",
   "mimetype": "text/x-python",
   "name": "python",
   "nbconvert_exporter": "python",
   "pygments_lexer": "ipython2",
   "version": "2.7.6"
  }
 },
 "nbformat": 4,
 "nbformat_minor": 2
}
